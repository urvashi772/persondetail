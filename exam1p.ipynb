{
 "cells": [
  {
   "cell_type": "code",
   "execution_count": 1,
   "metadata": {},
   "outputs": [
    {
     "name": "stdout",
     "output_type": "stream",
     "text": [
      "WELCOME TO THE INTERACTIVE PERSONAL DATA COLLECTOR !\n",
      "\n"
     ]
    },
    {
     "name": "stdout",
     "output_type": "stream",
     "text": [
      "Thank you ! here is the information we collected.\n",
      "\n",
      "Name: afsd ( Type: <class 'str'> , Memory address: 1407799098032 )\n",
      "age: 12 ( Type: <class 'int'> , Memory address: 140720134751496 )\n",
      "hight: 1.65 ( Type: <class 'float'> , Memory address: 1407773175152 )\n",
      "favorite number: 5 ( Type: <class 'int'> , Memory address: 140720134751272 )\n",
      "\n",
      "\n",
      "your birth year approximately: 2012 ( base on your age:  12 )\n",
      "\n",
      "\n",
      "Thank you for using the personal data collector. Goodbye!\n"
     ]
    }
   ],
   "source": [
    "# python exam 1\n",
    "\n",
    "print(\"WELCOME TO THE INTERACTIVE PERSONAL DATA COLLECTOR !\\n\")\n",
    "name = input(\"please enter your name: \")\n",
    "age = int(input(\"please enter your age: \"))\n",
    "hight = float(input(\"please enter your hight in meters: \"))\n",
    "number = int(input(\"please enter your favorite number: \")) \n",
    "\n",
    "print(\"Thank you ! here is the information we collected.\\n\")\n",
    "\n",
    "print(\"Name:\",name,\"(\",\"Type:\" ,type(name),\",\", \"Memory address:\",id(name),\")\")\n",
    "print(\"age:\",age,\"(\",\"Type:\" ,type(age),\",\", \"Memory address:\",id(age),\")\")\n",
    "print(\"hight:\",hight,\"(\",\"Type:\" ,type(hight),\",\", \"Memory address:\",id(hight),\")\")\n",
    "print(\"favorite number:\",number,\"(\",\"Type:\" ,type(number),\",\", \"Memory address:\",id(number),\")\")\n",
    "print(\"\\n\")\n",
    "\n",
    "# birth = (2024 - age)\n",
    "import datetime\n",
    "now = datetime.datetime.now()\n",
    "current_year = now.year - age \n",
    "print(\"your birth year approximately:\", current_year,\"(\",\"base on your age: \",age,\")\")\n",
    "print(\"\\n\")\n",
    "print(\"Thank you for using the personal data collector. Goodbye!\")\n"
   ]
  }
 ],
 "metadata": {
  "kernelspec": {
   "display_name": "urvashi",
   "language": "python",
   "name": "python3"
  },
  "language_info": {
   "codemirror_mode": {
    "name": "ipython",
    "version": 3
   },
   "file_extension": ".py",
   "mimetype": "text/x-python",
   "name": "python",
   "nbconvert_exporter": "python",
   "pygments_lexer": "ipython3",
   "version": "3.13.1"
  }
 },
 "nbformat": 4,
 "nbformat_minor": 2
}
